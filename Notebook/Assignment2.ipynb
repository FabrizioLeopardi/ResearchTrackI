{
 "cells": [
  {
   "cell_type": "markdown",
   "id": "ebc087bf",
   "metadata": {},
   "source": [
    "User interface\n",
    "=========="
   ]
  },
  {
   "cell_type": "markdown",
   "id": "1aad75c3",
   "metadata": {},
   "source": [
    "<font color='red'>**WARNING**</font> : All the part of this notebook are dependent from 1. If you want to use each of the 4 parts of the notebook separately without ever running 1 please uncomment each rospy.init_node() instruction"
   ]
  },
  {
   "cell_type": "markdown",
   "id": "ae0f0fe3",
   "metadata": {},
   "source": [
    "Also as a design choice execution of part 4 of this notebook stops part 2 therefore if you want to look at the plot after 4 please run it again. "
   ]
  },
  {
   "cell_type": "code",
   "execution_count": 1,
   "id": "1ccc029d",
   "metadata": {},
   "outputs": [],
   "source": [
    "import rospy\n",
    "import actionlib\n",
    "import assignment_2_2022.msg\n",
    "from geometry_msgs.msg import PoseStamped\n",
    "from assignment_2_2022.msg import PlanningActionResult\n",
    "import ipywidgets as widgets\n",
    "\n",
    "\n",
    "client = actionlib.SimpleActionClient('/reaching_goal',assignment_2_2022.msg.PlanningAction)"
   ]
  },
  {
   "cell_type": "code",
   "execution_count": 2,
   "id": "60ddc76b",
   "metadata": {},
   "outputs": [],
   "source": [
    "def goal_callback(data):\n",
    "    global goal_set_\n",
    "    if data.status.status==2 or data.status.status==3:\n",
    "        goal_set_=False"
   ]
  },
  {
   "cell_type": "code",
   "execution_count": 3,
   "id": "854088a4",
   "metadata": {},
   "outputs": [],
   "source": [
    "#same function as in client.py\n",
    "def target_client(a,b):\n",
    "    client.wait_for_server()\n",
    "    o=PoseStamped()\n",
    "    o.header.seq=0\n",
    "    o.header.stamp.secs=0\n",
    "    o.header.stamp.nsecs=0\n",
    "    o.header.frame_id=\"\"\n",
    "    o.pose.position.x=a\n",
    "    o.pose.position.y=b\n",
    "    o.pose.position.z=0\n",
    "    o.pose.orientation.x=0\n",
    "    o.pose.orientation.y=0\n",
    "    o.pose.orientation.z=0\n",
    "    o.pose.orientation.w=0\n",
    "    goal = assignment_2_2022.msg.PlanningGoal(o)\n",
    "    client.send_goal(goal)"
   ]
  },
  {
   "cell_type": "code",
   "execution_count": 4,
   "id": "c94a045b",
   "metadata": {
    "scrolled": true
   },
   "outputs": [
    {
     "name": "stdout",
     "output_type": "stream",
     "text": [
      "Insert goal x-axis\n"
     ]
    },
    {
     "data": {
      "application/vnd.jupyter.widget-view+json": {
       "model_id": "5249f89db08e41418e5360f47572dc13",
       "version_major": 2,
       "version_minor": 0
      },
      "text/plain": [
       "FloatText(value=0.0)"
      ]
     },
     "metadata": {},
     "output_type": "display_data"
    },
    {
     "name": "stdout",
     "output_type": "stream",
     "text": [
      "Insert goal y-axis\n"
     ]
    },
    {
     "data": {
      "application/vnd.jupyter.widget-view+json": {
       "model_id": "ef7e62044c624b43830a610a187bcace",
       "version_major": 2,
       "version_minor": 0
      },
      "text/plain": [
       "FloatText(value=1.0)"
      ]
     },
     "metadata": {},
     "output_type": "display_data"
    },
    {
     "data": {
      "application/vnd.jupyter.widget-view+json": {
       "model_id": "3a3a5702945f4214b015c6855b78c0c9",
       "version_major": 2,
       "version_minor": 0
      },
      "text/plain": [
       "HBox(children=(Button(description='Set goal', icon='check', layout=Layout(height='50px', width='30%'), style=B…"
      ]
     },
     "metadata": {},
     "output_type": "display_data"
    },
    {
     "data": {
      "application/vnd.jupyter.widget-view+json": {
       "model_id": "6a1a6e5306e54979bcc2691e67980fe6",
       "version_major": 2,
       "version_minor": 0
      },
      "text/plain": [
       "HBox(children=(Output(), Output()))"
      ]
     },
     "metadata": {},
     "output_type": "display_data"
    }
   ],
   "source": [
    "#Define 2 buttons\n",
    "a=widgets.Button(\n",
    "    description='Set goal', \n",
    "    layout=widgets.Layout(width='30%', height='50px'),\n",
    "    diabled=False, \n",
    "    button_style='', \n",
    "    icon='check'\n",
    ")\n",
    "\n",
    "b=widgets.Button(\n",
    "    description='Cancel previous goal?', \n",
    "    layout=widgets.Layout(width='30%',height='50px'),\n",
    "    diabled=False, \n",
    "    button_style='', \n",
    "    icon='trash'\n",
    ")\n",
    "\n",
    "a.style.button_color='green'\n",
    "b.style.button_color='red'\n",
    "\n",
    "output=widgets.Output()\n",
    "output2=widgets.Output()\n",
    "output3=widgets.Output()\n",
    "\n",
    "p=widgets.FloatText(value='0.0',disabled=False)\n",
    "q=widgets.FloatText(value='1.0',disabled=False)\n",
    "\n",
    "print(\"Insert goal x-axis\")\n",
    "display(p)\n",
    "print(\"Insert goal y-axis\")\n",
    "display(q)\n",
    "display(widgets.HBox([a,b]),widgets.HBox([output,output2]))\n",
    "\n",
    "\n",
    "#callback for the buttons\n",
    "def button_clicked_setgoal(x):\n",
    "    global goal_set_\n",
    "    if goal_set_==False:\n",
    "        target_client(p.value,q.value)\n",
    "        goal_set_=True\n",
    "    else:\n",
    "        with output:\n",
    "            print(\"Cannot set the goal\")\n",
    "        \n",
    "def button_clicked_goalcancelled(y):\n",
    "    global goal_set_\n",
    "    if goal_set_==True:\n",
    "        client.cancel_all_goals()\n",
    "        goal_set_=False\n",
    "        \n",
    "\n",
    "\n",
    "\n",
    "rospy.init_node('target_client_py')\n",
    "client.cancel_all_goals() #In this way if user runs again no problem occours\n",
    "global goal_set_\n",
    "goal_set_ = False\n",
    "client = actionlib.SimpleActionClient('/reaching_goal',assignment_2_2022.msg.PlanningAction)\n",
    "P=rospy.Subscriber('/reaching_goal/result',PlanningActionResult,goal_callback)\n",
    "\n",
    "a.on_click(button_clicked_setgoal)\n",
    "b.on_click(button_clicked_goalcancelled)"
   ]
  },
  {
   "cell_type": "markdown",
   "id": "1e6a7c9f",
   "metadata": {},
   "source": [
    "Plot of robot's position and goals\n",
    "=========="
   ]
  },
  {
   "cell_type": "code",
   "execution_count": 16,
   "id": "acf34f4a",
   "metadata": {},
   "outputs": [],
   "source": [
    "import matplotlib.pyplot as plt\n",
    "import rospy\n",
    "#import tf\n",
    "from nav_msgs.msg import Odometry\n",
    "#from tf.transformations import quaternion_matrix\n",
    "import numpy as np\n",
    "from matplotlib.animation import FuncAnimation\n",
    "from assignment_2_2022.msg import PlanningActionGoal"
   ]
  },
  {
   "cell_type": "code",
   "execution_count": 17,
   "id": "441f1f87",
   "metadata": {
    "scrolled": false
   },
   "outputs": [
    {
     "data": {
      "application/vnd.jupyter.widget-view+json": {
       "model_id": "44dd78446c9141428a076fba17b04f3c",
       "version_major": 2,
       "version_minor": 0
      },
      "text/plain": [
       "Canvas(toolbar=Toolbar(toolitems=[('Home', 'Reset original view', 'home', 'home'), ('Back', 'Back to previous …"
      ]
     },
     "metadata": {},
     "output_type": "display_data"
    }
   ],
   "source": [
    "%matplotlib widget\n",
    "class Visualiser:\n",
    "    def __init__(self):\n",
    "        self.fig, self.ax = plt.subplots()\n",
    "        self.ln1, = plt.plot([], [], 'ro')\n",
    "        self.ln2, = plt.plot([], [], marker='x', color='blue') \n",
    "        self.x_data, self.y_data = [] , []\n",
    "        self.goal_x, self.goal_y = [] , []\n",
    "    def plot_init(self):\n",
    "        self.ax.set_xlim(-10, 10)\n",
    "        self.ax.set_ylim(-10, 10)\n",
    "        return self.ln1\n",
    "    def odom_callback(self, msg):\n",
    "        self.y_data.append(msg.pose.pose.position.y)\n",
    "        self.x_data.append(msg.pose.pose.position.x)\n",
    "    def other_callback(self, msg):\n",
    "        self.goal_x.append(msg.goal.target_pose.pose.position.x)\n",
    "        self.goal_y.append(msg.goal.target_pose.pose.position.y)\n",
    "        \n",
    "    def update_plot(self,frame):\n",
    "        self.ln1.set_data(self.x_data,self.y_data)\n",
    "        self.ln2.set_data(self.goal_x,self.goal_y)\n",
    "        return self.ln1\n",
    "    \n",
    "\n",
    "#UNCOMMENT THIS FOR SINGLE EXECUTION\n",
    "#rospy.init_node('odom_visualizer_node') \n",
    "\n",
    "vis = Visualiser()\n",
    "sub = rospy.Subscriber('/odom',Odometry,vis.odom_callback)\n",
    "\n",
    "sub_sub = rospy.Subscriber('/reaching_goal/goal', PlanningActionGoal, vis.other_callback)\n",
    "\n",
    "ani=FuncAnimation(vis.fig, vis.update_plot, init_func=vis.plot_init)\n",
    "plt.show(block=True)"
   ]
  },
  {
   "cell_type": "markdown",
   "id": "aa9311ed",
   "metadata": {},
   "source": [
    "Laser scanner: closest obstacle\n",
    "=========="
   ]
  },
  {
   "cell_type": "code",
   "execution_count": 12,
   "id": "a4e1601c",
   "metadata": {},
   "outputs": [],
   "source": [
    "import rospy\n",
    "from sensor_msgs.msg import LaserScan\n",
    "import ipywidgets as widgets"
   ]
  },
  {
   "cell_type": "code",
   "execution_count": 18,
   "id": "abba7bc2",
   "metadata": {},
   "outputs": [
    {
     "data": {
      "application/vnd.jupyter.widget-view+json": {
       "model_id": "20f63c0d8e0249e69b8a6d75ccbecae1",
       "version_major": 2,
       "version_minor": 0
      },
      "text/plain": [
       "Text(value='1.2350690364837646', disabled=True)"
      ]
     },
     "metadata": {},
     "output_type": "display_data"
    }
   ],
   "source": [
    "#this block of code gives just a simple text box with the distance of the closest obstacle\n",
    "def laser_call(msg):\n",
    "    arr = msg.ranges\n",
    "    minimum=arr[0]\n",
    "    for i in range(len(arr)):\n",
    "        if arr[i] < minimum:\n",
    "            minimum=arr[i]\n",
    "    #print(minimum)\n",
    "    w=widgets.Text(value=str(minimum),disabled=True)\n",
    "    display(w)\n",
    "    \n",
    "    \n",
    "        \n",
    "#UNCOMMENT THIS FOR SINGLE EXECUTION\n",
    "#rospy.init_node(\"laser_node\")\n",
    "\n",
    "\n",
    "\n",
    "\n",
    "#sub=rospy.Subscriber(\"/scan\",LaserScan,laser_callback)\n",
    "\n",
    "#this just gets one value for the array and then unsubscribe\n",
    "msg=rospy.wait_for_message('/scan',LaserScan,timeout=5)\n",
    "laser_call(msg)\n"
   ]
  },
  {
   "cell_type": "markdown",
   "id": "12dcd08c",
   "metadata": {},
   "source": [
    "Number of goals reached and cancelled\n",
    "=========="
   ]
  },
  {
   "cell_type": "markdown",
   "id": "f7d5c762",
   "metadata": {},
   "source": [
    "A mixed visualisation has been chosen just to make the things a little bit more complicated\n",
    "for the last part of this notebook. So in the end we will have 2 sliders and a pie chart. The sliders will give the number of goal reached and cancelled whilst the pie chart the ratio between the 2. The pie chart won't be visulised if no goal has been reached/cancelled"
   ]
  },
  {
   "cell_type": "code",
   "execution_count": 14,
   "id": "75c0b488",
   "metadata": {},
   "outputs": [],
   "source": [
    "import rospy\n",
    "from assignment_2_2022.srv import Reached\n",
    "import ipywidgets as widgets\n",
    "import numpy as np\n",
    "import matplotlib.pyplot as pltt"
   ]
  },
  {
   "cell_type": "code",
   "execution_count": 15,
   "id": "a2401cdd",
   "metadata": {},
   "outputs": [
    {
     "data": {
      "application/vnd.jupyter.widget-view+json": {
       "model_id": "1789231cbcb0420e926652394c48828c",
       "version_major": 2,
       "version_minor": 0
      },
      "text/plain": [
       "IntSlider(value=3, description='# reached: ', disabled=True, max=3)"
      ]
     },
     "metadata": {},
     "output_type": "display_data"
    },
    {
     "data": {
      "application/vnd.jupyter.widget-view+json": {
       "model_id": "6793933acacb483393d3f50c6db474ee",
       "version_major": 2,
       "version_minor": 0
      },
      "text/plain": [
       "IntSlider(value=0, description='# cancelled: ', disabled=True, max=3)"
      ]
     },
     "metadata": {},
     "output_type": "display_data"
    },
    {
     "data": {
      "application/vnd.jupyter.widget-view+json": {
       "model_id": "59e1c36b6dfe4a30a7f983d871b86b91",
       "version_major": 2,
       "version_minor": 0
      },
      "text/plain": [
       "Canvas(toolbar=Toolbar(toolitems=[('Home', 'Reset original view', 'home', 'home'), ('Back', 'Back to previous …"
      ]
     },
     "metadata": {},
     "output_type": "display_data"
    }
   ],
   "source": [
    "%matplotlib widget\n",
    "\n",
    "#UNCOMMENT THIS FOR SINGLE EXECUTION\n",
    "#rospy.init_node(\"i_listen\")\n",
    "\n",
    "\n",
    "rospy.wait_for_service(\"/reached\")\n",
    "client1 = rospy.ServiceProxy(\"/reached\",Reached)\n",
    "response = client1()\n",
    "goal_reached = response.reached\n",
    "goal_cancelled = response.cancelled\n",
    "\n",
    "# 2 sliders numerically important\n",
    "c=widgets.IntSlider(\n",
    "    value=goal_reached,\n",
    "    min=0,\n",
    "    max=goal_reached+goal_cancelled,\n",
    "    step=1,\n",
    "    description=\"# reached: \",\n",
    "    disabled=True,\n",
    "    )\n",
    "\n",
    "d=widgets.IntSlider(\n",
    "    value=goal_cancelled,\n",
    "    min=0,\n",
    "    max=goal_reached+goal_cancelled,\n",
    "    step=1,\n",
    "    description=\"# cancelled: \",\n",
    "    disabled=True\n",
    ")\n",
    "display(c,d)\n",
    "\n",
    "#We don't want to show a pie chart if that means dividing by 0 in the code... and indeed the\n",
    "#pie chart wouldn't make sense in that case\n",
    "if goal_reached+goal_cancelled>0:\n",
    "    # A pie chart to look at the ratio\n",
    "    labels = 'Reached', 'Cancelled'\n",
    "    percent_r = goal_reached/(goal_reached+goal_cancelled)\n",
    "    percent_c = goal_cancelled/(goal_reached+goal_cancelled)\n",
    "\n",
    "    percent_r = percent_r*100\n",
    "    percent_c = percent_c*100\n",
    "\n",
    "    sizes = [percent_r, percent_c]\n",
    "    explode=(0.0,0.0) #user can set this variable to visualize differently the pie chart\n",
    "    fig1, ax1 = pltt.subplots()\n",
    "    ax1.pie(sizes,explode=explode,labels=labels,autopct='%1.1f%%',shadow=True,startangle=90)\n",
    "    ax1.axis('equal')\n",
    "    pltt.show()"
   ]
  },
  {
   "cell_type": "code",
   "execution_count": null,
   "id": "a244872b",
   "metadata": {},
   "outputs": [],
   "source": []
  }
 ],
 "metadata": {
  "kernelspec": {
   "display_name": "Python 3 (ipykernel)",
   "language": "python",
   "name": "python3"
  },
  "language_info": {
   "codemirror_mode": {
    "name": "ipython",
    "version": 3
   },
   "file_extension": ".py",
   "mimetype": "text/x-python",
   "name": "python",
   "nbconvert_exporter": "python",
   "pygments_lexer": "ipython3",
   "version": "3.8.5"
  },
  "toc": {
   "base_numbering": 1,
   "nav_menu": {},
   "number_sections": true,
   "sideBar": true,
   "skip_h1_title": false,
   "title_cell": "Table of Contents",
   "title_sidebar": "Contents",
   "toc_cell": false,
   "toc_position": {},
   "toc_section_display": true,
   "toc_window_display": false
  },
  "varInspector": {
   "cols": {
    "lenName": 16,
    "lenType": 16,
    "lenVar": 40
   },
   "kernels_config": {
    "python": {
     "delete_cmd_postfix": "",
     "delete_cmd_prefix": "del ",
     "library": "var_list.py",
     "varRefreshCmd": "print(var_dic_list())"
    },
    "r": {
     "delete_cmd_postfix": ") ",
     "delete_cmd_prefix": "rm(",
     "library": "var_list.r",
     "varRefreshCmd": "cat(var_dic_list()) "
    }
   },
   "types_to_exclude": [
    "module",
    "function",
    "builtin_function_or_method",
    "instance",
    "_Feature"
   ],
   "window_display": false
  }
 },
 "nbformat": 4,
 "nbformat_minor": 5
}
